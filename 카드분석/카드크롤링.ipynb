{
 "cells": [
  {
   "cell_type": "code",
   "execution_count": 9,
   "metadata": {},
   "outputs": [],
   "source": [
    "import undetected_chromedriver as uc\n",
    "from selenium import webdriver\n",
    "from selenium.webdriver.common.by import By\n",
    "from selenium.webdriver.common.keys import Keys\n",
    "from selenium import webdriver\n",
    "import time\n",
    "from bs4 import BeautifulSoup\n",
    "import pandas as pd\n",
    "import warnings\n",
    "from tqdm import tqdm\n",
    "warnings.filterwarnings(\"ignore\")"
   ]
  },
  {
   "cell_type": "code",
   "execution_count": 17,
   "metadata": {},
   "outputs": [],
   "source": [
    "driver = uc.Chrome()"
   ]
  },
  {
   "cell_type": "code",
   "execution_count": 18,
   "metadata": {},
   "outputs": [],
   "source": [
    "driver.get(\"https://www.card-gorilla.com/chart/top100?term=weekly&gad_source=1&gclid=Cj0KCQiAgJa6BhCOARIsAMiL7V9t0g1QuBq8YWrlp5yBmxjqLg7i5L7_FMGu1xazVXfuFFek5yc2o_EaAkK-EALw_wcB\")"
   ]
  },
  {
   "cell_type": "code",
   "execution_count": null,
   "metadata": {},
   "outputs": [],
   "source": [
    "from tqdm import tqdm\n",
    "import time\n",
    "import re\n",
    "from selenium.webdriver.common.by import By\n",
    "from selenium.webdriver.support.ui import WebDriverWait\n",
    "from selenium.webdriver.support import expected_conditions as EC\n",
    "\n",
    "\n",
    "이용조건_하나로 = []\n",
    "name_1 = []\n",
    "company_1 = []\n",
    "benefit_1 = []\n",
    "\n",
    "for n in tqdm(range(1, len(driver.find_elements(By.CSS_SELECTOR, \"p.card_name\")))):\n",
    "    try:\n",
    "        # 카드 상세 페이지로 이동\n",
    "        driver.find_elements(By.CSS_SELECTOR, \"p.card_name\")[n].click()\n",
    "        time.sleep(1)\n",
    "        \n",
    "        # 카드 정보 수집\n",
    "        name = driver.find_elements(By.CSS_SELECTOR, \"strong.card\")[0].text  # 카드 이름\n",
    "        company = driver.find_elements(By.CSS_SELECTOR, \"p.brand\")[0].text  # 카드사 이름\n",
    "        benefit = driver.find_elements(By.CSS_SELECTOR, \"div.lst.bene_area\")[0].text  # 총 혜택\n",
    "        time.sleep(1)\n",
    "        \n",
    "        name_1.append(name)\n",
    "        company_1.append(company)\n",
    "        benefit_1.append(benefit)\n",
    "        \n",
    "        # 이용 조건 수집\n",
    "        이용조건_1 = []\n",
    "        for i in range(len(driver.find_elements(By.CSS_SELECTOR, \"p.txt1\"))):\n",
    "            try:\n",
    "                elements = driver.find_elements(By.CSS_SELECTOR, \"p.txt1\")  # 요소 새로 찾기\n",
    "                \n",
    "                # 스크롤로 요소를 화면 중앙에 위치\n",
    "                target = elements[i]\n",
    "                driver.execute_script(\"arguments[0].scrollIntoView({block: 'center'});\", target)\n",
    "                \n",
    "                # 클릭 가능 상태 대기\n",
    "                WebDriverWait(driver, 10).until(EC.element_to_be_clickable((By.CSS_SELECTOR, \"p.txt1\")))\n",
    "                \n",
    "                # 클릭 실행\n",
    "                target.click()\n",
    "                time.sleep(1)\n",
    "                \n",
    "                # 이용 조건 가져오기\n",
    "                이용조건 = driver.find_elements(By.CSS_SELECTOR, \"div.in_box\")[1].text\n",
    "                이용조건_1.append(이용조건)\n",
    "                \n",
    "                # 새로고침\n",
    "                driver.refresh()\n",
    "                time.sleep(1)\n",
    "            except Exception as e:\n",
    "                print(f\"[이용 조건 수집 오류] index {i}: {e}\")\n",
    "                continue\n",
    "        \n",
    "        이용조건_하나로1 = \"\\n\\n\".join(item if item else \"' '\" for item in 이용조건_1)\n",
    "        이용조건_하나로.append(이용조건_하나로1)\n",
    "        \n",
    "        # 이전 페이지로 돌아가기\n",
    "        driver.execute_script(\"window.history.go(-1)\")\n",
    "        time.sleep(1)\n",
    "    \n",
    "    except Exception as e:\n",
    "        print(f\"[카드 정보 수집 오류] index {n}: {e}\")\n",
    "        driver.execute_script(\"window.history.go(-1)\")  # 오류 시 이전 페이지로 복귀\n",
    "        time.sleep(1)\n",
    "        continue"
   ]
  },
  {
   "cell_type": "code",
   "execution_count": null,
   "metadata": {},
   "outputs": [],
   "source": [
    "data = {\n",
    "    '카드명': name_1,\n",
    "    '카드회사': company_1,\n",
    "    '혜택_요약': benefit_1,\n",
    "    '혜택': 이용조건_하나로\n",
    "}\n",
    "\n",
    "# DataFrame 생성\n",
    "df = pd.DataFrame(data)\n",
    "df"
   ]
  },
  {
   "cell_type": "code",
   "execution_count": null,
   "metadata": {},
   "outputs": [],
   "source": [
    "df.to_csv('카드혜택.csv', index = False)"
   ]
  }
 ],
 "metadata": {
  "kernelspec": {
   "display_name": "practice_0731",
   "language": "python",
   "name": "conda"
  },
  "language_info": {
   "codemirror_mode": {
    "name": "ipython",
    "version": 3
   },
   "file_extension": ".py",
   "mimetype": "text/x-python",
   "name": "python",
   "nbconvert_exporter": "python",
   "pygments_lexer": "ipython3",
   "version": "3.12.2"
  }
 },
 "nbformat": 4,
 "nbformat_minor": 2
}
